{
  "nbformat": 4,
  "nbformat_minor": 0,
  "metadata": {
    "colab": {
      "provenance": []
    },
    "kernelspec": {
      "name": "python3",
      "display_name": "Python 3"
    },
    "language_info": {
      "name": "python"
    }
  },
  "cells": [
    {
      "cell_type": "code",
      "execution_count": 1,
      "metadata": {
        "id": "wz3_XsUogfNC"
      },
      "outputs": [],
      "source": [
        "import pandas as pd\n",
        "import matplotlib.pyplot as plt\n",
        "import seaborn as sns\n",
        "import numpy as np"
      ]
    },
    {
      "cell_type": "code",
      "source": [
        "train=pd.read_csv('/content/traincsv.csv')\n",
        "train"
      ],
      "metadata": {
        "colab": {
          "base_uri": "https://localhost:8080/",
          "height": 479
        },
        "id": "q0ATYZgkgokN",
        "outputId": "f4cca9b8-30bc-434e-c79b-ae0285ef4c45"
      },
      "execution_count": 2,
      "outputs": [
        {
          "output_type": "stream",
          "name": "stderr",
          "text": [
            "<ipython-input-2-b67bc83c940f>:1: DtypeWarning: Columns (3,4,5) have mixed types. Specify dtype option on import or set low_memory=False.\n",
            "  train=pd.read_csv('/content/traincsv.csv')\n"
          ]
        },
        {
          "output_type": "execute_result",
          "data": {
            "text/plain": [
              "        Customer_ID outlet_city luxury_sales fresh_sales dry_sales  \\\n",
              "0        10493832.0    Kelaniya       1209.6       756.0    5292.0   \n",
              "1        10178643.0    Moratuwa      1590.12     1060.08   6007.12   \n",
              "2        10513916.0     Wattala      2288.88     1481.04   9155.52   \n",
              "3        10334589.0     Wattala      2274.94     1739.66   9099.76   \n",
              "4        10458365.0    Kelaniya      2345.49     2069.55   9243.99   \n",
              "...             ...         ...          ...         ...       ...   \n",
              "774150   10197979.0     Gampaha       3893.4      3893.4   3448.44   \n",
              "774151   10494575.0  Katunayake      6095.86     5557.99   6275.15   \n",
              "774152   10565682.0     Colombo      5121.42     4820.16   4669.53   \n",
              "774153   10351977.0       Kandy      6311.76     6311.76   5940.48   \n",
              "774154   10637635.0     Negombo       5833.5     6027.95    6611.3   \n",
              "\n",
              "       cluster_catgeory  \n",
              "0                     4  \n",
              "1                     1  \n",
              "2                     4  \n",
              "3                     4  \n",
              "4                     4  \n",
              "...                 ...  \n",
              "774150                3  \n",
              "774151                3  \n",
              "774152                3  \n",
              "774153                3  \n",
              "774154                3  \n",
              "\n",
              "[774155 rows x 6 columns]"
            ],
            "text/html": [
              "\n",
              "  <div id=\"df-d4a1ef17-e4d4-49d8-85c8-dc133fb9c4fe\" class=\"colab-df-container\">\n",
              "    <div>\n",
              "<style scoped>\n",
              "    .dataframe tbody tr th:only-of-type {\n",
              "        vertical-align: middle;\n",
              "    }\n",
              "\n",
              "    .dataframe tbody tr th {\n",
              "        vertical-align: top;\n",
              "    }\n",
              "\n",
              "    .dataframe thead th {\n",
              "        text-align: right;\n",
              "    }\n",
              "</style>\n",
              "<table border=\"1\" class=\"dataframe\">\n",
              "  <thead>\n",
              "    <tr style=\"text-align: right;\">\n",
              "      <th></th>\n",
              "      <th>Customer_ID</th>\n",
              "      <th>outlet_city</th>\n",
              "      <th>luxury_sales</th>\n",
              "      <th>fresh_sales</th>\n",
              "      <th>dry_sales</th>\n",
              "      <th>cluster_catgeory</th>\n",
              "    </tr>\n",
              "  </thead>\n",
              "  <tbody>\n",
              "    <tr>\n",
              "      <th>0</th>\n",
              "      <td>10493832.0</td>\n",
              "      <td>Kelaniya</td>\n",
              "      <td>1209.6</td>\n",
              "      <td>756.0</td>\n",
              "      <td>5292.0</td>\n",
              "      <td>4</td>\n",
              "    </tr>\n",
              "    <tr>\n",
              "      <th>1</th>\n",
              "      <td>10178643.0</td>\n",
              "      <td>Moratuwa</td>\n",
              "      <td>1590.12</td>\n",
              "      <td>1060.08</td>\n",
              "      <td>6007.12</td>\n",
              "      <td>1</td>\n",
              "    </tr>\n",
              "    <tr>\n",
              "      <th>2</th>\n",
              "      <td>10513916.0</td>\n",
              "      <td>Wattala</td>\n",
              "      <td>2288.88</td>\n",
              "      <td>1481.04</td>\n",
              "      <td>9155.52</td>\n",
              "      <td>4</td>\n",
              "    </tr>\n",
              "    <tr>\n",
              "      <th>3</th>\n",
              "      <td>10334589.0</td>\n",
              "      <td>Wattala</td>\n",
              "      <td>2274.94</td>\n",
              "      <td>1739.66</td>\n",
              "      <td>9099.76</td>\n",
              "      <td>4</td>\n",
              "    </tr>\n",
              "    <tr>\n",
              "      <th>4</th>\n",
              "      <td>10458365.0</td>\n",
              "      <td>Kelaniya</td>\n",
              "      <td>2345.49</td>\n",
              "      <td>2069.55</td>\n",
              "      <td>9243.99</td>\n",
              "      <td>4</td>\n",
              "    </tr>\n",
              "    <tr>\n",
              "      <th>...</th>\n",
              "      <td>...</td>\n",
              "      <td>...</td>\n",
              "      <td>...</td>\n",
              "      <td>...</td>\n",
              "      <td>...</td>\n",
              "      <td>...</td>\n",
              "    </tr>\n",
              "    <tr>\n",
              "      <th>774150</th>\n",
              "      <td>10197979.0</td>\n",
              "      <td>Gampaha</td>\n",
              "      <td>3893.4</td>\n",
              "      <td>3893.4</td>\n",
              "      <td>3448.44</td>\n",
              "      <td>3</td>\n",
              "    </tr>\n",
              "    <tr>\n",
              "      <th>774151</th>\n",
              "      <td>10494575.0</td>\n",
              "      <td>Katunayake</td>\n",
              "      <td>6095.86</td>\n",
              "      <td>5557.99</td>\n",
              "      <td>6275.15</td>\n",
              "      <td>3</td>\n",
              "    </tr>\n",
              "    <tr>\n",
              "      <th>774152</th>\n",
              "      <td>10565682.0</td>\n",
              "      <td>Colombo</td>\n",
              "      <td>5121.42</td>\n",
              "      <td>4820.16</td>\n",
              "      <td>4669.53</td>\n",
              "      <td>3</td>\n",
              "    </tr>\n",
              "    <tr>\n",
              "      <th>774153</th>\n",
              "      <td>10351977.0</td>\n",
              "      <td>Kandy</td>\n",
              "      <td>6311.76</td>\n",
              "      <td>6311.76</td>\n",
              "      <td>5940.48</td>\n",
              "      <td>3</td>\n",
              "    </tr>\n",
              "    <tr>\n",
              "      <th>774154</th>\n",
              "      <td>10637635.0</td>\n",
              "      <td>Negombo</td>\n",
              "      <td>5833.5</td>\n",
              "      <td>6027.95</td>\n",
              "      <td>6611.3</td>\n",
              "      <td>3</td>\n",
              "    </tr>\n",
              "  </tbody>\n",
              "</table>\n",
              "<p>774155 rows × 6 columns</p>\n",
              "</div>\n",
              "    <div class=\"colab-df-buttons\">\n",
              "\n",
              "  <div class=\"colab-df-container\">\n",
              "    <button class=\"colab-df-convert\" onclick=\"convertToInteractive('df-d4a1ef17-e4d4-49d8-85c8-dc133fb9c4fe')\"\n",
              "            title=\"Convert this dataframe to an interactive table.\"\n",
              "            style=\"display:none;\">\n",
              "\n",
              "  <svg xmlns=\"http://www.w3.org/2000/svg\" height=\"24px\" viewBox=\"0 -960 960 960\">\n",
              "    <path d=\"M120-120v-720h720v720H120Zm60-500h600v-160H180v160Zm220 220h160v-160H400v160Zm0 220h160v-160H400v160ZM180-400h160v-160H180v160Zm440 0h160v-160H620v160ZM180-180h160v-160H180v160Zm440 0h160v-160H620v160Z\"/>\n",
              "  </svg>\n",
              "    </button>\n",
              "\n",
              "  <style>\n",
              "    .colab-df-container {\n",
              "      display:flex;\n",
              "      gap: 12px;\n",
              "    }\n",
              "\n",
              "    .colab-df-convert {\n",
              "      background-color: #E8F0FE;\n",
              "      border: none;\n",
              "      border-radius: 50%;\n",
              "      cursor: pointer;\n",
              "      display: none;\n",
              "      fill: #1967D2;\n",
              "      height: 32px;\n",
              "      padding: 0 0 0 0;\n",
              "      width: 32px;\n",
              "    }\n",
              "\n",
              "    .colab-df-convert:hover {\n",
              "      background-color: #E2EBFA;\n",
              "      box-shadow: 0px 1px 2px rgba(60, 64, 67, 0.3), 0px 1px 3px 1px rgba(60, 64, 67, 0.15);\n",
              "      fill: #174EA6;\n",
              "    }\n",
              "\n",
              "    .colab-df-buttons div {\n",
              "      margin-bottom: 4px;\n",
              "    }\n",
              "\n",
              "    [theme=dark] .colab-df-convert {\n",
              "      background-color: #3B4455;\n",
              "      fill: #D2E3FC;\n",
              "    }\n",
              "\n",
              "    [theme=dark] .colab-df-convert:hover {\n",
              "      background-color: #434B5C;\n",
              "      box-shadow: 0px 1px 3px 1px rgba(0, 0, 0, 0.15);\n",
              "      filter: drop-shadow(0px 1px 2px rgba(0, 0, 0, 0.3));\n",
              "      fill: #FFFFFF;\n",
              "    }\n",
              "  </style>\n",
              "\n",
              "    <script>\n",
              "      const buttonEl =\n",
              "        document.querySelector('#df-d4a1ef17-e4d4-49d8-85c8-dc133fb9c4fe button.colab-df-convert');\n",
              "      buttonEl.style.display =\n",
              "        google.colab.kernel.accessAllowed ? 'block' : 'none';\n",
              "\n",
              "      async function convertToInteractive(key) {\n",
              "        const element = document.querySelector('#df-d4a1ef17-e4d4-49d8-85c8-dc133fb9c4fe');\n",
              "        const dataTable =\n",
              "          await google.colab.kernel.invokeFunction('convertToInteractive',\n",
              "                                                    [key], {});\n",
              "        if (!dataTable) return;\n",
              "\n",
              "        const docLinkHtml = 'Like what you see? Visit the ' +\n",
              "          '<a target=\"_blank\" href=https://colab.research.google.com/notebooks/data_table.ipynb>data table notebook</a>'\n",
              "          + ' to learn more about interactive tables.';\n",
              "        element.innerHTML = '';\n",
              "        dataTable['output_type'] = 'display_data';\n",
              "        await google.colab.output.renderOutput(dataTable, element);\n",
              "        const docLink = document.createElement('div');\n",
              "        docLink.innerHTML = docLinkHtml;\n",
              "        element.appendChild(docLink);\n",
              "      }\n",
              "    </script>\n",
              "  </div>\n",
              "\n",
              "\n",
              "<div id=\"df-4743266a-e38e-4d44-bca7-a28ac4c8696e\">\n",
              "  <button class=\"colab-df-quickchart\" onclick=\"quickchart('df-4743266a-e38e-4d44-bca7-a28ac4c8696e')\"\n",
              "            title=\"Suggest charts\"\n",
              "            style=\"display:none;\">\n",
              "\n",
              "<svg xmlns=\"http://www.w3.org/2000/svg\" height=\"24px\"viewBox=\"0 0 24 24\"\n",
              "     width=\"24px\">\n",
              "    <g>\n",
              "        <path d=\"M19 3H5c-1.1 0-2 .9-2 2v14c0 1.1.9 2 2 2h14c1.1 0 2-.9 2-2V5c0-1.1-.9-2-2-2zM9 17H7v-7h2v7zm4 0h-2V7h2v10zm4 0h-2v-4h2v4z\"/>\n",
              "    </g>\n",
              "</svg>\n",
              "  </button>\n",
              "\n",
              "<style>\n",
              "  .colab-df-quickchart {\n",
              "      --bg-color: #E8F0FE;\n",
              "      --fill-color: #1967D2;\n",
              "      --hover-bg-color: #E2EBFA;\n",
              "      --hover-fill-color: #174EA6;\n",
              "      --disabled-fill-color: #AAA;\n",
              "      --disabled-bg-color: #DDD;\n",
              "  }\n",
              "\n",
              "  [theme=dark] .colab-df-quickchart {\n",
              "      --bg-color: #3B4455;\n",
              "      --fill-color: #D2E3FC;\n",
              "      --hover-bg-color: #434B5C;\n",
              "      --hover-fill-color: #FFFFFF;\n",
              "      --disabled-bg-color: #3B4455;\n",
              "      --disabled-fill-color: #666;\n",
              "  }\n",
              "\n",
              "  .colab-df-quickchart {\n",
              "    background-color: var(--bg-color);\n",
              "    border: none;\n",
              "    border-radius: 50%;\n",
              "    cursor: pointer;\n",
              "    display: none;\n",
              "    fill: var(--fill-color);\n",
              "    height: 32px;\n",
              "    padding: 0;\n",
              "    width: 32px;\n",
              "  }\n",
              "\n",
              "  .colab-df-quickchart:hover {\n",
              "    background-color: var(--hover-bg-color);\n",
              "    box-shadow: 0 1px 2px rgba(60, 64, 67, 0.3), 0 1px 3px 1px rgba(60, 64, 67, 0.15);\n",
              "    fill: var(--button-hover-fill-color);\n",
              "  }\n",
              "\n",
              "  .colab-df-quickchart-complete:disabled,\n",
              "  .colab-df-quickchart-complete:disabled:hover {\n",
              "    background-color: var(--disabled-bg-color);\n",
              "    fill: var(--disabled-fill-color);\n",
              "    box-shadow: none;\n",
              "  }\n",
              "\n",
              "  .colab-df-spinner {\n",
              "    border: 2px solid var(--fill-color);\n",
              "    border-color: transparent;\n",
              "    border-bottom-color: var(--fill-color);\n",
              "    animation:\n",
              "      spin 1s steps(1) infinite;\n",
              "  }\n",
              "\n",
              "  @keyframes spin {\n",
              "    0% {\n",
              "      border-color: transparent;\n",
              "      border-bottom-color: var(--fill-color);\n",
              "      border-left-color: var(--fill-color);\n",
              "    }\n",
              "    20% {\n",
              "      border-color: transparent;\n",
              "      border-left-color: var(--fill-color);\n",
              "      border-top-color: var(--fill-color);\n",
              "    }\n",
              "    30% {\n",
              "      border-color: transparent;\n",
              "      border-left-color: var(--fill-color);\n",
              "      border-top-color: var(--fill-color);\n",
              "      border-right-color: var(--fill-color);\n",
              "    }\n",
              "    40% {\n",
              "      border-color: transparent;\n",
              "      border-right-color: var(--fill-color);\n",
              "      border-top-color: var(--fill-color);\n",
              "    }\n",
              "    60% {\n",
              "      border-color: transparent;\n",
              "      border-right-color: var(--fill-color);\n",
              "    }\n",
              "    80% {\n",
              "      border-color: transparent;\n",
              "      border-right-color: var(--fill-color);\n",
              "      border-bottom-color: var(--fill-color);\n",
              "    }\n",
              "    90% {\n",
              "      border-color: transparent;\n",
              "      border-bottom-color: var(--fill-color);\n",
              "    }\n",
              "  }\n",
              "</style>\n",
              "\n",
              "  <script>\n",
              "    async function quickchart(key) {\n",
              "      const quickchartButtonEl =\n",
              "        document.querySelector('#' + key + ' button');\n",
              "      quickchartButtonEl.disabled = true;  // To prevent multiple clicks.\n",
              "      quickchartButtonEl.classList.add('colab-df-spinner');\n",
              "      try {\n",
              "        const charts = await google.colab.kernel.invokeFunction(\n",
              "            'suggestCharts', [key], {});\n",
              "      } catch (error) {\n",
              "        console.error('Error during call to suggestCharts:', error);\n",
              "      }\n",
              "      quickchartButtonEl.classList.remove('colab-df-spinner');\n",
              "      quickchartButtonEl.classList.add('colab-df-quickchart-complete');\n",
              "    }\n",
              "    (() => {\n",
              "      let quickchartButtonEl =\n",
              "        document.querySelector('#df-4743266a-e38e-4d44-bca7-a28ac4c8696e button');\n",
              "      quickchartButtonEl.style.display =\n",
              "        google.colab.kernel.accessAllowed ? 'block' : 'none';\n",
              "    })();\n",
              "  </script>\n",
              "</div>\n",
              "\n",
              "  <div id=\"id_25af7c86-d1c1-4694-8199-9658e85c7f73\">\n",
              "    <style>\n",
              "      .colab-df-generate {\n",
              "        background-color: #E8F0FE;\n",
              "        border: none;\n",
              "        border-radius: 50%;\n",
              "        cursor: pointer;\n",
              "        display: none;\n",
              "        fill: #1967D2;\n",
              "        height: 32px;\n",
              "        padding: 0 0 0 0;\n",
              "        width: 32px;\n",
              "      }\n",
              "\n",
              "      .colab-df-generate:hover {\n",
              "        background-color: #E2EBFA;\n",
              "        box-shadow: 0px 1px 2px rgba(60, 64, 67, 0.3), 0px 1px 3px 1px rgba(60, 64, 67, 0.15);\n",
              "        fill: #174EA6;\n",
              "      }\n",
              "\n",
              "      [theme=dark] .colab-df-generate {\n",
              "        background-color: #3B4455;\n",
              "        fill: #D2E3FC;\n",
              "      }\n",
              "\n",
              "      [theme=dark] .colab-df-generate:hover {\n",
              "        background-color: #434B5C;\n",
              "        box-shadow: 0px 1px 3px 1px rgba(0, 0, 0, 0.15);\n",
              "        filter: drop-shadow(0px 1px 2px rgba(0, 0, 0, 0.3));\n",
              "        fill: #FFFFFF;\n",
              "      }\n",
              "    </style>\n",
              "    <button class=\"colab-df-generate\" onclick=\"generateWithVariable('train')\"\n",
              "            title=\"Generate code using this dataframe.\"\n",
              "            style=\"display:none;\">\n",
              "\n",
              "  <svg xmlns=\"http://www.w3.org/2000/svg\" height=\"24px\"viewBox=\"0 0 24 24\"\n",
              "       width=\"24px\">\n",
              "    <path d=\"M7,19H8.4L18.45,9,17,7.55,7,17.6ZM5,21V16.75L18.45,3.32a2,2,0,0,1,2.83,0l1.4,1.43a1.91,1.91,0,0,1,.58,1.4,1.91,1.91,0,0,1-.58,1.4L9.25,21ZM18.45,9,17,7.55Zm-12,3A5.31,5.31,0,0,0,4.9,8.1,5.31,5.31,0,0,0,1,6.5,5.31,5.31,0,0,0,4.9,4.9,5.31,5.31,0,0,0,6.5,1,5.31,5.31,0,0,0,8.1,4.9,5.31,5.31,0,0,0,12,6.5,5.46,5.46,0,0,0,6.5,12Z\"/>\n",
              "  </svg>\n",
              "    </button>\n",
              "    <script>\n",
              "      (() => {\n",
              "      const buttonEl =\n",
              "        document.querySelector('#id_25af7c86-d1c1-4694-8199-9658e85c7f73 button.colab-df-generate');\n",
              "      buttonEl.style.display =\n",
              "        google.colab.kernel.accessAllowed ? 'block' : 'none';\n",
              "\n",
              "      buttonEl.onclick = () => {\n",
              "        google.colab.notebook.generateWithVariable('train');\n",
              "      }\n",
              "      })();\n",
              "    </script>\n",
              "  </div>\n",
              "\n",
              "    </div>\n",
              "  </div>\n"
            ],
            "application/vnd.google.colaboratory.intrinsic+json": {
              "type": "dataframe",
              "variable_name": "train"
            }
          },
          "metadata": {},
          "execution_count": 2
        }
      ]
    },
    {
      "cell_type": "code",
      "source": [
        "train.info()"
      ],
      "metadata": {
        "id": "ZER7FusBi6qk",
        "colab": {
          "base_uri": "https://localhost:8080/"
        },
        "outputId": "e3cf0d6b-0ba5-40ef-f451-8ce1a8194407"
      },
      "execution_count": 3,
      "outputs": [
        {
          "output_type": "stream",
          "name": "stdout",
          "text": [
            "<class 'pandas.core.frame.DataFrame'>\n",
            "RangeIndex: 774155 entries, 0 to 774154\n",
            "Data columns (total 6 columns):\n",
            " #   Column            Non-Null Count   Dtype  \n",
            "---  ------            --------------   -----  \n",
            " 0   Customer_ID       774153 non-null  float64\n",
            " 1   outlet_city       774153 non-null  object \n",
            " 2   luxury_sales      774120 non-null  object \n",
            " 3   fresh_sales       774114 non-null  object \n",
            " 4   dry_sales         774125 non-null  object \n",
            " 5   cluster_catgeory  774154 non-null  object \n",
            "dtypes: float64(1), object(5)\n",
            "memory usage: 35.4+ MB\n"
          ]
        }
      ]
    },
    {
      "cell_type": "code",
      "source": [
        "train = train.rename(columns={'cluster_catgeory': 'cluster_category'})\n",
        "print(train.columns)"
      ],
      "metadata": {
        "id": "Ska2YCE14ie7",
        "colab": {
          "base_uri": "https://localhost:8080/"
        },
        "outputId": "2f87334c-f42d-4ead-b63a-30638ba2dcb4"
      },
      "execution_count": 4,
      "outputs": [
        {
          "output_type": "stream",
          "name": "stdout",
          "text": [
            "Index(['Customer_ID', 'outlet_city', 'luxury_sales', 'fresh_sales',\n",
            "       'dry_sales', 'cluster_category'],\n",
            "      dtype='object')\n"
          ]
        }
      ]
    },
    {
      "cell_type": "code",
      "source": [
        "train.isnull().sum()"
      ],
      "metadata": {
        "id": "6IDG2xyMrXgN",
        "colab": {
          "base_uri": "https://localhost:8080/",
          "height": 272
        },
        "outputId": "5bee7112-e9b6-4c70-f40f-7889374b27de"
      },
      "execution_count": 5,
      "outputs": [
        {
          "output_type": "execute_result",
          "data": {
            "text/plain": [
              "Customer_ID          2\n",
              "outlet_city          2\n",
              "luxury_sales        35\n",
              "fresh_sales         41\n",
              "dry_sales           30\n",
              "cluster_category     1\n",
              "dtype: int64"
            ],
            "text/html": [
              "<div>\n",
              "<style scoped>\n",
              "    .dataframe tbody tr th:only-of-type {\n",
              "        vertical-align: middle;\n",
              "    }\n",
              "\n",
              "    .dataframe tbody tr th {\n",
              "        vertical-align: top;\n",
              "    }\n",
              "\n",
              "    .dataframe thead th {\n",
              "        text-align: right;\n",
              "    }\n",
              "</style>\n",
              "<table border=\"1\" class=\"dataframe\">\n",
              "  <thead>\n",
              "    <tr style=\"text-align: right;\">\n",
              "      <th></th>\n",
              "      <th>0</th>\n",
              "    </tr>\n",
              "  </thead>\n",
              "  <tbody>\n",
              "    <tr>\n",
              "      <th>Customer_ID</th>\n",
              "      <td>2</td>\n",
              "    </tr>\n",
              "    <tr>\n",
              "      <th>outlet_city</th>\n",
              "      <td>2</td>\n",
              "    </tr>\n",
              "    <tr>\n",
              "      <th>luxury_sales</th>\n",
              "      <td>35</td>\n",
              "    </tr>\n",
              "    <tr>\n",
              "      <th>fresh_sales</th>\n",
              "      <td>41</td>\n",
              "    </tr>\n",
              "    <tr>\n",
              "      <th>dry_sales</th>\n",
              "      <td>30</td>\n",
              "    </tr>\n",
              "    <tr>\n",
              "      <th>cluster_category</th>\n",
              "      <td>1</td>\n",
              "    </tr>\n",
              "  </tbody>\n",
              "</table>\n",
              "</div><br><label><b>dtype:</b> int64</label>"
            ]
          },
          "metadata": {},
          "execution_count": 5
        }
      ]
    },
    {
      "cell_type": "code",
      "source": [
        "for column in train.columns:\n",
        "    unique_count = train[column].nunique()\n",
        "    print(f\"Total unique values in '{column}' column: {unique_count}\")\n"
      ],
      "metadata": {
        "colab": {
          "base_uri": "https://localhost:8080/"
        },
        "id": "cUgm-q_OAQmW",
        "outputId": "eb6f66b7-500f-4821-b621-e278dd0926e0"
      },
      "execution_count": 6,
      "outputs": [
        {
          "output_type": "stream",
          "name": "stdout",
          "text": [
            "Total unique values in 'Customer_ID' column: 774153\n",
            "Total unique values in 'outlet_city' column: 20\n",
            "Total unique values in 'luxury_sales' column: 143897\n",
            "Total unique values in 'fresh_sales' column: 257030\n",
            "Total unique values in 'dry_sales' column: 270131\n",
            "Total unique values in 'cluster_category' column: 18\n"
          ]
        }
      ]
    },
    {
      "cell_type": "code",
      "source": [
        "for column in train.columns:\n",
        "  print(f\"Unique values in '{column}' column:\")\n",
        "  print(train[column].unique())\n",
        "  print(\"\\n\")\n"
      ],
      "metadata": {
        "id": "dnm8nqkxmSFs",
        "colab": {
          "base_uri": "https://localhost:8080/"
        },
        "outputId": "b06a1139-33c5-466d-8cbc-9092c63c7693"
      },
      "execution_count": 7,
      "outputs": [
        {
          "output_type": "stream",
          "name": "stdout",
          "text": [
            "Unique values in 'Customer_ID' column:\n",
            "[10493832. 10178643. 10513916. ... 10565682. 10351977. 10637635.]\n",
            "\n",
            "\n",
            "Unique values in 'outlet_city' column:\n",
            "['Kelaniya' 'Moratuwa' 'Wattala' 'Homagama' 'Dehiwala-Mount Lavinia'\n",
            " 'Panadura' 'Kaduwela' 'Peliyagoda' 'Kotte' 'Nuwara Eliya' 'Batticaloa'\n",
            " 'Colombo' 'Jaffna' 'Gampaha' 'Kalmunai' 'Galle' 'Katunayake' 'Negombo'\n",
            " 'Trincomalee' 'Kandy' nan]\n",
            "\n",
            "\n",
            "Unique values in 'luxury_sales' column:\n",
            "['1209.6' '1590.12' '2288.88' ... '2624.65' '5121.42' '5833.5']\n",
            "\n",
            "\n",
            "Unique values in 'fresh_sales' column:\n",
            "[756.0 1060.08 1481.04 ... '3723.52' '4740.83' '4820.16']\n",
            "\n",
            "\n",
            "Unique values in 'dry_sales' column:\n",
            "[5292.0 6007.12 9155.52 ... 3448.44 6275.15 6611.3]\n",
            "\n",
            "\n",
            "Unique values in 'cluster_category' column:\n",
            "['4' '1' '99' '2' '5' '3' '6' '6\\\\' 4 2 1 95 3 98 5 6 nan 100.0 89.0]\n",
            "\n",
            "\n"
          ]
        }
      ]
    },
    {
      "cell_type": "code",
      "source": [
        "train['luxury_sales'] = train['luxury_sales'].astype(str).str.strip()\n",
        "train['fresh_sales'] = train['fresh_sales'].astype(str).str.strip()\n",
        "train['dry_sales'] = train['dry_sales'].astype(str).str.strip()"
      ],
      "metadata": {
        "id": "CFT9bnGMYPJT"
      },
      "execution_count": 8,
      "outputs": []
    },
    {
      "cell_type": "code",
      "source": [
        "import re\n",
        "string_luxury_sales=train['luxury_sales'][train['luxury_sales'].apply(lambda x:bool(re.match(r'[a-zA-Z]',str(x))))]\n",
        "string_luxury_sales.value_counts()"
      ],
      "metadata": {
        "colab": {
          "base_uri": "https://localhost:8080/",
          "height": 398
        },
        "id": "xqyYRXZAfSAj",
        "outputId": "d4435e0c-8406-4b79-f225-1e40ebd0d4a9"
      },
      "execution_count": 9,
      "outputs": [
        {
          "output_type": "execute_result",
          "data": {
            "text/plain": [
              "luxury_sales\n",
              "nan                                    35\n",
              "nul                                     3\n",
              "One thousand four hundread ruppes       1\n",
              "Eight hundread ruppess                  1\n",
              "six hundread and hirty                  1\n",
              "Thousand tow hundread                   1\n",
              "seven hundread and nine ruppees         1\n",
              "Three thousand two hundread ruppess     1\n",
              "Four thousand one hundread ruppess      1\n",
              "Name: count, dtype: int64"
            ],
            "text/html": [
              "<div>\n",
              "<style scoped>\n",
              "    .dataframe tbody tr th:only-of-type {\n",
              "        vertical-align: middle;\n",
              "    }\n",
              "\n",
              "    .dataframe tbody tr th {\n",
              "        vertical-align: top;\n",
              "    }\n",
              "\n",
              "    .dataframe thead th {\n",
              "        text-align: right;\n",
              "    }\n",
              "</style>\n",
              "<table border=\"1\" class=\"dataframe\">\n",
              "  <thead>\n",
              "    <tr style=\"text-align: right;\">\n",
              "      <th></th>\n",
              "      <th>count</th>\n",
              "    </tr>\n",
              "    <tr>\n",
              "      <th>luxury_sales</th>\n",
              "      <th></th>\n",
              "    </tr>\n",
              "  </thead>\n",
              "  <tbody>\n",
              "    <tr>\n",
              "      <th>nan</th>\n",
              "      <td>35</td>\n",
              "    </tr>\n",
              "    <tr>\n",
              "      <th>nul</th>\n",
              "      <td>3</td>\n",
              "    </tr>\n",
              "    <tr>\n",
              "      <th>One thousand four hundread ruppes</th>\n",
              "      <td>1</td>\n",
              "    </tr>\n",
              "    <tr>\n",
              "      <th>Eight hundread ruppess</th>\n",
              "      <td>1</td>\n",
              "    </tr>\n",
              "    <tr>\n",
              "      <th>six hundread and hirty</th>\n",
              "      <td>1</td>\n",
              "    </tr>\n",
              "    <tr>\n",
              "      <th>Thousand tow hundread</th>\n",
              "      <td>1</td>\n",
              "    </tr>\n",
              "    <tr>\n",
              "      <th>seven hundread and nine ruppees</th>\n",
              "      <td>1</td>\n",
              "    </tr>\n",
              "    <tr>\n",
              "      <th>Three thousand two hundread ruppess</th>\n",
              "      <td>1</td>\n",
              "    </tr>\n",
              "    <tr>\n",
              "      <th>Four thousand one hundread ruppess</th>\n",
              "      <td>1</td>\n",
              "    </tr>\n",
              "  </tbody>\n",
              "</table>\n",
              "</div><br><label><b>dtype:</b> int64</label>"
            ]
          },
          "metadata": {},
          "execution_count": 9
        }
      ]
    },
    {
      "cell_type": "code",
      "source": [
        "string_fresh_sales=train['fresh_sales'][train['fresh_sales'].apply(lambda x:bool(re.match(r'[a-zA-Z]',str(x))))]\n",
        "string_fresh_sales.value_counts()"
      ],
      "metadata": {
        "colab": {
          "base_uri": "https://localhost:8080/",
          "height": 335
        },
        "id": "o3f2M9i_frKs",
        "outputId": "b0051b30-ccab-4659-c420-81403093fb62"
      },
      "execution_count": 10,
      "outputs": [
        {
          "output_type": "execute_result",
          "data": {
            "text/plain": [
              "fresh_sales\n",
              "nan                                    41\n",
              "nul                                     4\n",
              "Six hundread and five ruppes            1\n",
              "Three thousana and five hundread        1\n",
              "thirteen thousand ruppes                1\n",
              "Five thousand ruppes                    1\n",
              "Two thousand seven hundread ruppess     1\n",
              "Name: count, dtype: int64"
            ],
            "text/html": [
              "<div>\n",
              "<style scoped>\n",
              "    .dataframe tbody tr th:only-of-type {\n",
              "        vertical-align: middle;\n",
              "    }\n",
              "\n",
              "    .dataframe tbody tr th {\n",
              "        vertical-align: top;\n",
              "    }\n",
              "\n",
              "    .dataframe thead th {\n",
              "        text-align: right;\n",
              "    }\n",
              "</style>\n",
              "<table border=\"1\" class=\"dataframe\">\n",
              "  <thead>\n",
              "    <tr style=\"text-align: right;\">\n",
              "      <th></th>\n",
              "      <th>count</th>\n",
              "    </tr>\n",
              "    <tr>\n",
              "      <th>fresh_sales</th>\n",
              "      <th></th>\n",
              "    </tr>\n",
              "  </thead>\n",
              "  <tbody>\n",
              "    <tr>\n",
              "      <th>nan</th>\n",
              "      <td>41</td>\n",
              "    </tr>\n",
              "    <tr>\n",
              "      <th>nul</th>\n",
              "      <td>4</td>\n",
              "    </tr>\n",
              "    <tr>\n",
              "      <th>Six hundread and five ruppes</th>\n",
              "      <td>1</td>\n",
              "    </tr>\n",
              "    <tr>\n",
              "      <th>Three thousana and five hundread</th>\n",
              "      <td>1</td>\n",
              "    </tr>\n",
              "    <tr>\n",
              "      <th>thirteen thousand ruppes</th>\n",
              "      <td>1</td>\n",
              "    </tr>\n",
              "    <tr>\n",
              "      <th>Five thousand ruppes</th>\n",
              "      <td>1</td>\n",
              "    </tr>\n",
              "    <tr>\n",
              "      <th>Two thousand seven hundread ruppess</th>\n",
              "      <td>1</td>\n",
              "    </tr>\n",
              "  </tbody>\n",
              "</table>\n",
              "</div><br><label><b>dtype:</b> int64</label>"
            ]
          },
          "metadata": {},
          "execution_count": 10
        }
      ]
    },
    {
      "cell_type": "code",
      "source": [
        "string_dry_sales=train['dry_sales'][train['dry_sales'].apply(lambda x:bool(re.match(r'[a-zA-Z]',str(x))))]\n",
        "string_dry_sales.value_counts()"
      ],
      "metadata": {
        "colab": {
          "base_uri": "https://localhost:8080/",
          "height": 210
        },
        "id": "BzKc3F0ZfrfB",
        "outputId": "60dc6acc-b368-4974-9c5b-6c7d39f952ac"
      },
      "execution_count": 11,
      "outputs": [
        {
          "output_type": "execute_result",
          "data": {
            "text/plain": [
              "dry_sales\n",
              "nan                                      30\n",
              "nul                                       7\n",
              "Four thousand and two hundread ruppes     1\n",
              "Name: count, dtype: int64"
            ],
            "text/html": [
              "<div>\n",
              "<style scoped>\n",
              "    .dataframe tbody tr th:only-of-type {\n",
              "        vertical-align: middle;\n",
              "    }\n",
              "\n",
              "    .dataframe tbody tr th {\n",
              "        vertical-align: top;\n",
              "    }\n",
              "\n",
              "    .dataframe thead th {\n",
              "        text-align: right;\n",
              "    }\n",
              "</style>\n",
              "<table border=\"1\" class=\"dataframe\">\n",
              "  <thead>\n",
              "    <tr style=\"text-align: right;\">\n",
              "      <th></th>\n",
              "      <th>count</th>\n",
              "    </tr>\n",
              "    <tr>\n",
              "      <th>dry_sales</th>\n",
              "      <th></th>\n",
              "    </tr>\n",
              "  </thead>\n",
              "  <tbody>\n",
              "    <tr>\n",
              "      <th>nan</th>\n",
              "      <td>30</td>\n",
              "    </tr>\n",
              "    <tr>\n",
              "      <th>nul</th>\n",
              "      <td>7</td>\n",
              "    </tr>\n",
              "    <tr>\n",
              "      <th>Four thousand and two hundread ruppes</th>\n",
              "      <td>1</td>\n",
              "    </tr>\n",
              "  </tbody>\n",
              "</table>\n",
              "</div><br><label><b>dtype:</b> int64</label>"
            ]
          },
          "metadata": {},
          "execution_count": 11
        }
      ]
    },
    {
      "cell_type": "code",
      "source": [
        "import pandas as pd\n",
        "\n",
        "# Manually replace specific values in both luxury_sales and fresh_sales\n",
        "train.replace({\n",
        "    'luxury_sales': {\n",
        "        'One thousand four hundread ruppes': '1400',\n",
        "        'Eight hundread ruppess': '800',\n",
        "        'six hundread and hirty': '630',\n",
        "        'Thousand tow hundread': '1200',\n",
        "        'seven hundread and nine ruppees': '709',\n",
        "        'Three thousand two hundread ruppess': '3200',\n",
        "        'Four thousand one hundread ruppess': '4100'\n",
        "    },\n",
        "    'fresh_sales': {\n",
        "        'Six hundread and five ruppes': '605',\n",
        "        'Three thousana and five hundread': '3500',\n",
        "        'thirteen thousand ruppes': '13000',\n",
        "        'Five thousand ruppes': '5000',\n",
        "        'Two thousand seven hundread ruppess': '2700'\n",
        "    },\n",
        "    'dry_sales': {\n",
        "        'Four thousand and two hundread ruppes': '4200'\n",
        "    }\n",
        "\n",
        "}, inplace=True)\n",
        "\n",
        "# Convert luxury_sales to numeric\n",
        "train['luxury_sales'] = pd.to_numeric(train['luxury_sales'], errors='coerce').astype('float')\n",
        "train['fresh_sales'] = pd.to_numeric(train['fresh_sales'], errors='coerce').astype('float')\n",
        "train['dry_sales'] = pd.to_numeric(train['dry_sales'], errors='coerce').astype('float')\n",
        "\n",
        "# Print the data type of luxury_sales\n",
        "print(train['luxury_sales'].dtypes)\n",
        "print(train['fresh_sales'].dtypes)\n",
        "print(train['dry_sales'].dtypes)\n"
      ],
      "metadata": {
        "colab": {
          "base_uri": "https://localhost:8080/"
        },
        "id": "_3rvyHcGeMXE",
        "outputId": "bd88ccbe-940d-4188-b964-80340cb4671a"
      },
      "execution_count": 12,
      "outputs": [
        {
          "output_type": "stream",
          "name": "stdout",
          "text": [
            "float64\n",
            "float64\n",
            "float64\n"
          ]
        }
      ]
    },
    {
      "cell_type": "code",
      "source": [
        "train.isnull().sum()"
      ],
      "metadata": {
        "colab": {
          "base_uri": "https://localhost:8080/",
          "height": 272
        },
        "id": "536SUh-neNxU",
        "outputId": "20ee67cd-51f1-48d7-82f8-136419010984"
      },
      "execution_count": 13,
      "outputs": [
        {
          "output_type": "execute_result",
          "data": {
            "text/plain": [
              "Customer_ID          2\n",
              "outlet_city          2\n",
              "luxury_sales        38\n",
              "fresh_sales         45\n",
              "dry_sales           37\n",
              "cluster_category     1\n",
              "dtype: int64"
            ],
            "text/html": [
              "<div>\n",
              "<style scoped>\n",
              "    .dataframe tbody tr th:only-of-type {\n",
              "        vertical-align: middle;\n",
              "    }\n",
              "\n",
              "    .dataframe tbody tr th {\n",
              "        vertical-align: top;\n",
              "    }\n",
              "\n",
              "    .dataframe thead th {\n",
              "        text-align: right;\n",
              "    }\n",
              "</style>\n",
              "<table border=\"1\" class=\"dataframe\">\n",
              "  <thead>\n",
              "    <tr style=\"text-align: right;\">\n",
              "      <th></th>\n",
              "      <th>0</th>\n",
              "    </tr>\n",
              "  </thead>\n",
              "  <tbody>\n",
              "    <tr>\n",
              "      <th>Customer_ID</th>\n",
              "      <td>2</td>\n",
              "    </tr>\n",
              "    <tr>\n",
              "      <th>outlet_city</th>\n",
              "      <td>2</td>\n",
              "    </tr>\n",
              "    <tr>\n",
              "      <th>luxury_sales</th>\n",
              "      <td>38</td>\n",
              "    </tr>\n",
              "    <tr>\n",
              "      <th>fresh_sales</th>\n",
              "      <td>45</td>\n",
              "    </tr>\n",
              "    <tr>\n",
              "      <th>dry_sales</th>\n",
              "      <td>37</td>\n",
              "    </tr>\n",
              "    <tr>\n",
              "      <th>cluster_category</th>\n",
              "      <td>1</td>\n",
              "    </tr>\n",
              "  </tbody>\n",
              "</table>\n",
              "</div><br><label><b>dtype:</b> int64</label>"
            ]
          },
          "metadata": {},
          "execution_count": 13
        }
      ]
    },
    {
      "cell_type": "code",
      "source": [
        "missing_values = train.isnull().sum()\n",
        "missing_percentage = (missing_values / len(train)) * 100\n",
        "\n",
        "missing_df = pd.DataFrame({'Missing Values': missing_values, 'Percentage (%)': missing_percentage})\n",
        "missing_df = missing_df[missing_df['Missing Values'] > 0]\n",
        "print(missing_df)\n"
      ],
      "metadata": {
        "colab": {
          "base_uri": "https://localhost:8080/"
        },
        "id": "jp2lWxcoBo0I",
        "outputId": "7f309c4a-a331-49cf-b2ce-0851d58cc4d8"
      },
      "execution_count": 14,
      "outputs": [
        {
          "output_type": "stream",
          "name": "stdout",
          "text": [
            "                  Missing Values  Percentage (%)\n",
            "Customer_ID                    2        0.000258\n",
            "outlet_city                    2        0.000258\n",
            "luxury_sales                  38        0.004909\n",
            "fresh_sales                   45        0.005813\n",
            "dry_sales                     37        0.004779\n",
            "cluster_category               1        0.000129\n"
          ]
        }
      ]
    },
    {
      "cell_type": "code",
      "source": [
        "train['cluster_category'] = train['cluster_category'].astype(str)\n"
      ],
      "metadata": {
        "id": "vZHjVJUWgZil"
      },
      "execution_count": 15,
      "outputs": []
    },
    {
      "cell_type": "code",
      "source": [
        "print(train['cluster_category'].unique())"
      ],
      "metadata": {
        "colab": {
          "base_uri": "https://localhost:8080/"
        },
        "id": "cEGhJaiOgmIf",
        "outputId": "5d6d12c3-d6e8-494d-80d0-05aab98834ca"
      },
      "execution_count": 16,
      "outputs": [
        {
          "output_type": "stream",
          "name": "stdout",
          "text": [
            "['4' '1' '99' '2' '5' '3' '6' '6\\\\' '95' '98' '1.0' 'nan' '100.0' '6.0'\n",
            " '2.0' '3.0' '4.0' '5.0' '89.0']\n"
          ]
        }
      ]
    },
    {
      "cell_type": "code",
      "source": [
        "# Manually replace specific values\n",
        "train['cluster_category'] = train['cluster_category'].replace({\n",
        "    '6\\\\': '6' ,\n",
        "    '100.0': '100',\n",
        "    '6.0': '6',\n",
        "    '2.0': '2',\n",
        "    '3.0': '3',\n",
        "    '4.0': '4',\n",
        "    '5.0': '5',\n",
        "    '1.0': '1',\n",
        "    '89.0': '89'\n",
        "})\n",
        "\n",
        "\n",
        "# Print the cleaned unique values\n",
        "print(train['cluster_category'].unique())\n"
      ],
      "metadata": {
        "colab": {
          "base_uri": "https://localhost:8080/"
        },
        "id": "J4hntho7hGnY",
        "outputId": "045016ae-cd1b-4221-846e-1e3a882b7d84"
      },
      "execution_count": 17,
      "outputs": [
        {
          "output_type": "stream",
          "name": "stdout",
          "text": [
            "['4' '1' '99' '2' '5' '3' '6' '95' '98' 'nan' '100' '89']\n"
          ]
        }
      ]
    },
    {
      "cell_type": "code",
      "source": [
        "train = train[train['cluster_category'].isin(['1', '2', '3', '4', '5', '6'])]\n",
        "\n",
        "# Print the DataFrame to verify the rows have been dropped\n",
        "print(train)"
      ],
      "metadata": {
        "colab": {
          "base_uri": "https://localhost:8080/"
        },
        "id": "nyLA6vfykj2T",
        "outputId": "8745578b-8b4e-4b5d-a7c2-bd569659bc9b"
      },
      "execution_count": 18,
      "outputs": [
        {
          "output_type": "stream",
          "name": "stdout",
          "text": [
            "        Customer_ID outlet_city  luxury_sales  fresh_sales  dry_sales  \\\n",
            "0        10493832.0    Kelaniya       1209.60       756.00    5292.00   \n",
            "1        10178643.0    Moratuwa       1590.12      1060.08    6007.12   \n",
            "2        10513916.0     Wattala       2288.88      1481.04    9155.52   \n",
            "3        10334589.0     Wattala       2274.94      1739.66    9099.76   \n",
            "4        10458365.0    Kelaniya       2345.49      2069.55    9243.99   \n",
            "...             ...         ...           ...          ...        ...   \n",
            "774150   10197979.0     Gampaha       3893.40      3893.40    3448.44   \n",
            "774151   10494575.0  Katunayake       6095.86      5557.99    6275.15   \n",
            "774152   10565682.0     Colombo       5121.42      4820.16    4669.53   \n",
            "774153   10351977.0       Kandy       6311.76      6311.76    5940.48   \n",
            "774154   10637635.0     Negombo       5833.50      6027.95    6611.30   \n",
            "\n",
            "       cluster_category  \n",
            "0                     4  \n",
            "1                     1  \n",
            "2                     4  \n",
            "3                     4  \n",
            "4                     4  \n",
            "...                 ...  \n",
            "774150                3  \n",
            "774151                3  \n",
            "774152                3  \n",
            "774153                3  \n",
            "774154                3  \n",
            "\n",
            "[774149 rows x 6 columns]\n"
          ]
        }
      ]
    },
    {
      "cell_type": "code",
      "source": [
        "mode_value = train['cluster_category'].mode()[0]\n",
        "print(\"Mode of cluster_category:\", mode_value)\n"
      ],
      "metadata": {
        "colab": {
          "base_uri": "https://localhost:8080/"
        },
        "id": "jpxZivB4hUpf",
        "outputId": "b2718b2e-272e-42a5-ef9a-2b0581f72e2f"
      },
      "execution_count": 19,
      "outputs": [
        {
          "output_type": "stream",
          "name": "stdout",
          "text": [
            "Mode of cluster_category: 1\n"
          ]
        }
      ]
    },
    {
      "cell_type": "code",
      "source": [
        "train['outlet_city'] = train['outlet_city'].fillna(train['outlet_city'].mode()[0])\n",
        "train['cluster_category'] = train['cluster_category'].fillna(train['cluster_category'].mode()[0])"
      ],
      "metadata": {
        "id": "ItL_Q_x3hYM_"
      },
      "execution_count": 20,
      "outputs": []
    },
    {
      "cell_type": "code",
      "source": [
        "import matplotlib.pyplot as plt\n",
        "import seaborn as sns\n",
        "\n",
        "# Set figure size\n",
        "plt.figure(figsize=(15, 5))\n",
        "\n",
        "# Luxury Sales Histogram with custom color\n",
        "plt.subplot(1, 3, 1)\n",
        "sns.histplot(train['luxury_sales'], bins=30, kde=True, color='#1f77b4')  # Blue color\n",
        "plt.title('Luxury Sales Distribution')\n",
        "\n",
        "# Fresh Sales Histogram with custom color\n",
        "plt.subplot(1, 3, 2)\n",
        "sns.histplot(train['fresh_sales'], bins=30, kde=True, color='#ff7f0e')  # Orange color\n",
        "plt.title('Fresh Sales Distribution')\n",
        "\n",
        "# Dry Sales Histogram with custom color\n",
        "plt.subplot(1, 3, 3)\n",
        "sns.histplot(train['dry_sales'], bins=30, kde=True, color='#2ca02c')  # Green color\n",
        "plt.title('Dry Sales Distribution')\n",
        "\n",
        "# Adjust layout and show plot\n",
        "plt.tight_layout()\n",
        "plt.show()\n"
      ],
      "metadata": {
        "colab": {
          "base_uri": "https://localhost:8080/",
          "height": 361
        },
        "id": "fug3CdgZRcx8",
        "outputId": "e6592316-d449-4ce4-9542-29700a90099c"
      },
      "execution_count": 21,
      "outputs": [
        {
          "output_type": "display_data",
          "data": {
            "text/plain": [
              "<Figure size 1500x500 with 3 Axes>"
            ],
            "image/png": "[encoded data removed]"
          },
          "metadata": {}
        }
      ]
    },
    {
      "cell_type": "code",
      "source": [
        "original_data = train.copy()\n"
      ],
      "metadata": {
        "id": "A4UjZDXAxN0w"
      },
      "execution_count": 22,
      "outputs": []
    },
    {
      "cell_type": "code",
      "source": [
        "from sklearn.impute import KNNImputer\n",
        "\n",
        "imputer = KNNImputer(n_neighbors=5)\n",
        "train[['luxury_sales', 'fresh_sales', 'dry_sales']] = imputer.fit_transform(train[['luxury_sales', 'fresh_sales', 'dry_sales']])"
      ],
      "metadata": {
        "id": "Agy07vi1hYP9"
      },
      "execution_count": 23,
      "outputs": []
    },
    {
      "cell_type": "code",
      "source": [
        "from scipy.stats import skew, kurtosis\n",
        "\n",
        "def compare_distribution_change_knn(column):\n",
        "    print(f\"\\n--- {column.upper()} DISTRIBUTION CHANGE (KNN Imputation) ---\")\n",
        "    original = original_data[column]\n",
        "    knn_imputed = train[column]\n",
        "\n",
        "    print(\"Original (with missing values):\")\n",
        "    print(f\"  Count: {original.count()}, Mean: {original.mean():.2f}, Median: {original.median():.2f}, Std: {original.std():.2f},\")\n",
        "    print(f\"  Skewness: {skew(original.dropna()):.2f}, Kurtosis: {kurtosis(original.dropna()):.2f}\")\n",
        "\n",
        "    print(\"After KNN Imputation:\")\n",
        "    print(f\"  Count: {knn_imputed.count()}, Mean: {knn_imputed.mean():.2f}, Median: {knn_imputed.median():.2f}, Std: {knn_imputed.std():.2f},\")\n",
        "    print(f\"  Skewness: {skew(knn_imputed):.2f}, Kurtosis: {kurtosis(knn_imputed):.2f}\")\n",
        "\n",
        "    # Optional: Show percentage change\n",
        "    mean_change = ((knn_imputed.mean() - original.mean()) / original.mean()) * 100\n",
        "    std_change = ((knn_imputed.std() - original.std()) / original.std()) * 100\n",
        "    print(f\"  Mean Change: {mean_change:.2f}%, Std Dev Change: {std_change:.2f}%\")\n",
        "\n",
        "# Run for each relevant column\n",
        "for col in ['luxury_sales', 'fresh_sales', 'dry_sales']:\n",
        "    compare_distribution_change_knn(col)\n"
      ],
      "metadata": {
        "colab": {
          "base_uri": "https://localhost:8080/"
        },
        "id": "wZ9bKBEOxRRu",
        "outputId": "ed1ca3c4-dfc9-449a-8512-d17d6382046a"
      },
      "execution_count": 24,
      "outputs": [
        {
          "output_type": "stream",
          "name": "stdout",
          "text": [
            "\n",
            "--- LUXURY_SALES DISTRIBUTION CHANGE (KNN Imputation) ---\n",
            "Original (with missing values):\n",
            "  Count: 774111, Mean: 1921.97, Median: 1715.28, Std: 1004.08,\n",
            "  Skewness: 1.62, Kurtosis: 3.56\n",
            "After KNN Imputation:\n",
            "  Count: 774149, Mean: 1921.99, Median: 1715.30, Std: 1004.10,\n",
            "  Skewness: 1.62, Kurtosis: 3.55\n",
            "  Mean Change: 0.00%, Std Dev Change: 0.00%\n",
            "\n",
            "--- FRESH_SALES DISTRIBUTION CHANGE (KNN Imputation) ---\n",
            "Original (with missing values):\n",
            "  Count: 774104, Mean: 4428.69, Median: 3356.51, Std: 3334.67,\n",
            "  Skewness: 0.88, Kurtosis: -0.26\n",
            "After KNN Imputation:\n",
            "  Count: 774149, Mean: 4428.67, Median: 3356.54, Std: 3334.64,\n",
            "  Skewness: 0.88, Kurtosis: -0.26\n",
            "  Mean Change: -0.00%, Std Dev Change: -0.00%\n",
            "\n",
            "--- DRY_SALES DISTRIBUTION CHANGE (KNN Imputation) ---\n",
            "Original (with missing values):\n",
            "  Count: 774112, Mean: 4676.28, Median: 3727.76, Std: 3409.38,\n",
            "  Skewness: 0.77, Kurtosis: -0.51\n",
            "After KNN Imputation:\n",
            "  Count: 774149, Mean: 4676.30, Median: 3727.76, Std: 3409.41,\n",
            "  Skewness: 0.77, Kurtosis: -0.51\n",
            "  Mean Change: 0.00%, Std Dev Change: 0.00%\n"
          ]
        }
      ]
    },
    {
      "cell_type": "code",
      "source": [
        "import matplotlib.pyplot as plt\n",
        "import seaborn as sns\n",
        "\n",
        "# Set figure size\n",
        "plt.figure(figsize=(15, 5))\n",
        "\n",
        "# Luxury Sales Histogram with custom color\n",
        "plt.subplot(1, 3, 1)\n",
        "sns.histplot(train['luxury_sales'], bins=30, kde=True, color='#1f77b4')  # Blue color\n",
        "plt.title('Luxury Sales Distribution')\n",
        "\n",
        "# Fresh Sales Histogram with custom color\n",
        "plt.subplot(1, 3, 2)\n",
        "sns.histplot(train['fresh_sales'], bins=30, kde=True, color='#ff7f0e')  # Orange color\n",
        "plt.title('Fresh Sales Distribution')\n",
        "\n",
        "# Dry Sales Histogram with custom color\n",
        "plt.subplot(1, 3, 3)\n",
        "sns.histplot(train['dry_sales'], bins=30, kde=True, color='#2ca02c')  # Green color\n",
        "plt.title('Dry Sales Distribution')\n",
        "\n",
        "# Adjust layout and show plot\n",
        "plt.tight_layout()\n",
        "plt.show()\n"
      ],
      "metadata": {
        "colab": {
          "base_uri": "https://localhost:8080/",
          "height": 361
        },
        "id": "qVFbuYFNRexC",
        "outputId": "8c2cec76-91ee-48ad-a8df-ec2c60458960"
      },
      "execution_count": 25,
      "outputs": [
        {
          "output_type": "display_data",
          "data": {
            "text/plain": [
              "<Figure size 1500x500 with 3 Axes>"
            ],
            "image/png": "[encoded data removed]"
          },
          "metadata": {}
        }
      ]
    },
    {
      "cell_type": "code",
      "source": [
        "train.isnull().sum()"
      ],
      "metadata": {
        "colab": {
          "base_uri": "https://localhost:8080/",
          "height": 272
        },
        "id": "3ibwnXztz5wW",
        "outputId": "ad896dbb-39be-4842-c441-0ae0b28a159a"
      },
      "execution_count": 26,
      "outputs": [
        {
          "output_type": "execute_result",
          "data": {
            "text/plain": [
              "Customer_ID         2\n",
              "outlet_city         0\n",
              "luxury_sales        0\n",
              "fresh_sales         0\n",
              "dry_sales           0\n",
              "cluster_category    0\n",
              "dtype: int64"
            ],
            "text/html": [
              "<div>\n",
              "<style scoped>\n",
              "    .dataframe tbody tr th:only-of-type {\n",
              "        vertical-align: middle;\n",
              "    }\n",
              "\n",
              "    .dataframe tbody tr th {\n",
              "        vertical-align: top;\n",
              "    }\n",
              "\n",
              "    .dataframe thead th {\n",
              "        text-align: right;\n",
              "    }\n",
              "</style>\n",
              "<table border=\"1\" class=\"dataframe\">\n",
              "  <thead>\n",
              "    <tr style=\"text-align: right;\">\n",
              "      <th></th>\n",
              "      <th>0</th>\n",
              "    </tr>\n",
              "  </thead>\n",
              "  <tbody>\n",
              "    <tr>\n",
              "      <th>Customer_ID</th>\n",
              "      <td>2</td>\n",
              "    </tr>\n",
              "    <tr>\n",
              "      <th>outlet_city</th>\n",
              "      <td>0</td>\n",
              "    </tr>\n",
              "    <tr>\n",
              "      <th>luxury_sales</th>\n",
              "      <td>0</td>\n",
              "    </tr>\n",
              "    <tr>\n",
              "      <th>fresh_sales</th>\n",
              "      <td>0</td>\n",
              "    </tr>\n",
              "    <tr>\n",
              "      <th>dry_sales</th>\n",
              "      <td>0</td>\n",
              "    </tr>\n",
              "    <tr>\n",
              "      <th>cluster_category</th>\n",
              "      <td>0</td>\n",
              "    </tr>\n",
              "  </tbody>\n",
              "</table>\n",
              "</div><br><label><b>dtype:</b> int64</label>"
            ]
          },
          "metadata": {},
          "execution_count": 26
        }
      ]
    },
    {
      "cell_type": "code",
      "source": [
        "train.info()"
      ],
      "metadata": {
        "id": "Za0SPWsUhnXI",
        "colab": {
          "base_uri": "https://localhost:8080/"
        },
        "outputId": "28eb8e55-cae2-4a37-aaa6-5de483beed21"
      },
      "execution_count": 27,
      "outputs": [
        {
          "output_type": "stream",
          "name": "stdout",
          "text": [
            "<class 'pandas.core.frame.DataFrame'>\n",
            "Index: 774149 entries, 0 to 774154\n",
            "Data columns (total 6 columns):\n",
            " #   Column            Non-Null Count   Dtype  \n",
            "---  ------            --------------   -----  \n",
            " 0   Customer_ID       774147 non-null  float64\n",
            " 1   outlet_city       774149 non-null  object \n",
            " 2   luxury_sales      774149 non-null  float64\n",
            " 3   fresh_sales       774149 non-null  float64\n",
            " 4   dry_sales         774149 non-null  float64\n",
            " 5   cluster_category  774149 non-null  object \n",
            "dtypes: float64(4), object(2)\n",
            "memory usage: 41.3+ MB\n"
          ]
        }
      ]
    },
    {
      "cell_type": "code",
      "source": [
        "# Calculate IQR for each sales column and detect outliers\n",
        "def detect_outliers_iqr(test, column):\n",
        "    Q1 = test[column].quantile(0.25)\n",
        "    Q3 = test[column].quantile(0.75)\n",
        "    IQR = Q3 - Q1\n",
        "    lower_bound = Q1 - 1.5 * IQR\n",
        "    upper_bound = Q3 + 1.5 * IQR\n",
        "    outliers = (test[column] < lower_bound) | (test[column] > upper_bound)\n",
        "    return outliers\n",
        "\n",
        "# Create outlier detection using IQR for each sales column\n",
        "train['outliers_luxury'] = detect_outliers_iqr(train, 'luxury_sales')\n",
        "train['outliers_fresh'] = detect_outliers_iqr(train, 'fresh_sales')\n",
        "train['outliers_dry'] = detect_outliers_iqr(train, 'dry_sales')\n",
        "\n",
        "# Plotting separate box plots for each sales column\n",
        "plt.figure(figsize=(15, 5))\n",
        "\n",
        "# Luxury Sales Boxplot with custom color\n",
        "plt.subplot(1, 3, 1)\n",
        "sns.boxplot(x=train['luxury_sales'], color='#1f77b4')  # Blue color\n",
        "plt.title('Luxury Sales Outliers (IQR)')\n",
        "\n",
        "# Fresh Sales Boxplot with custom color\n",
        "plt.subplot(1, 3, 2)\n",
        "sns.boxplot(x=train['fresh_sales'], color='#ff7f0e')  # Orange color\n",
        "plt.title('Fresh Sales Outliers (IQR)')\n",
        "\n",
        "# Dry Sales Boxplot with custom color\n",
        "plt.subplot(1, 3, 3)\n",
        "sns.boxplot(x=train['dry_sales'], color='#2ca02c')  # Green color\n",
        "plt.title('Dry Sales Outliers (IQR)')\n",
        "\n",
        "plt.tight_layout()\n",
        "plt.show()\n"
      ],
      "metadata": {
        "colab": {
          "base_uri": "https://localhost:8080/",
          "height": 362
        },
        "id": "lCrGuTfpNTKx",
        "outputId": "e10e9347-5b5f-4e16-e8e8-cbe116db250a"
      },
      "execution_count": 28,
      "outputs": [
        {
          "output_type": "display_data",
          "data": {
            "text/plain": [
              "<Figure size 1500x500 with 3 Axes>"
            ],
            "image/png": "[encoded data removed]"
          },
          "metadata": {}
        }
      ]
    },
    {
      "cell_type": "code",
      "source": [
        "def calculate_outlier_percentage(df, column):\n",
        "    Q1 = df[column].quantile(0.25)\n",
        "    Q3 = df[column].quantile(0.75)\n",
        "    IQR = Q3 - Q1\n",
        "    lower_bound = Q1 - 1.5 * IQR\n",
        "    upper_bound = Q3 + 1.5 * IQR\n",
        "    outliers = ((df[column] < lower_bound) | (df[column] > upper_bound)).sum()\n",
        "    total = df[column].notnull().sum()\n",
        "    percentage = (outliers / total) * 100\n",
        "    return round(percentage, 2)\n",
        "\n",
        "for col in ['luxury_sales', 'fresh_sales', 'dry_sales']:\n",
        "    percent = calculate_outlier_percentage(train, col)\n",
        "    print(f\"Outlier percentage in '{col}': {percent}%\")\n"
      ],
      "metadata": {
        "colab": {
          "base_uri": "https://localhost:8080/"
        },
        "id": "VaoFJW_Pqfu6",
        "outputId": "adff7de3-b974-4e57-8a42-e52ef800458e"
      },
      "execution_count": 29,
      "outputs": [
        {
          "output_type": "stream",
          "name": "stdout",
          "text": [
            "Outlier percentage in 'luxury_sales': 4.53%\n",
            "Outlier percentage in 'fresh_sales': 0.0%\n",
            "Outlier percentage in 'dry_sales': 0.0%\n"
          ]
        }
      ]
    },
    {
      "cell_type": "code",
      "source": [
        "train[[\"outliers_luxury\" , \"outliers_fresh\" , \"outliers_dry\"]] = train[[\"outliers_luxury\" , \"outliers_fresh\" , \"outliers_dry\"]].replace({True: 1, False: 0})"
      ],
      "metadata": {
        "colab": {
          "base_uri": "https://localhost:8080/"
        },
        "id": "nO8RxD-_NQA_",
        "outputId": "f568dcb8-b4c1-43c0-f297-0ce00d341656"
      },
      "execution_count": 30,
      "outputs": [
        {
          "output_type": "stream",
          "name": "stderr",
          "text": [
            "<ipython-input-30-6c1319169c0d>:1: FutureWarning: Downcasting behavior in `replace` is deprecated and will be removed in a future version. To retain the old behavior, explicitly call `result.infer_objects(copy=False)`. To opt-in to the future behavior, set `pd.set_option('future.no_silent_downcasting', True)`\n",
            "  train[[\"outliers_luxury\" , \"outliers_fresh\" , \"outliers_dry\"]] = train[[\"outliers_luxury\" , \"outliers_fresh\" , \"outliers_dry\"]].replace({True: 1, False: 0})\n"
          ]
        }
      ]
    },
    {
      "cell_type": "code",
      "source": [
        "duplicate_rows = train.duplicated().sum()\n",
        "print(f\"Number of duplicate rows: {duplicate_rows}\")"
      ],
      "metadata": {
        "colab": {
          "base_uri": "https://localhost:8080/"
        },
        "id": "swIaWQmVB7sq",
        "outputId": "9ba055a4-91c3-4003-b370-4b983c62e333"
      },
      "execution_count": 31,
      "outputs": [
        {
          "output_type": "stream",
          "name": "stdout",
          "text": [
            "Number of duplicate rows: 0\n"
          ]
        }
      ]
    },
    {
      "cell_type": "code",
      "source": [
        "from sklearn import preprocessing\n",
        "\n",
        "# Define the union list of cities (all cities across both datasets)\n",
        "outlet_city_list = ['Batticaloa', 'Colombo', 'Dehiwala-Mount Lavinia', 'Anuradhapura', 'Galle',\n",
        "                   'Gampaha', 'Homagama', 'Jaffna', 'Kaduwela', 'Kalmunai', 'Kandy', 'Katunayake',\n",
        "                   'Kelaniya', 'Madawachiya', 'Kotte', 'Moratuwa', 'Negombo', 'Nuwara Eliya',\n",
        "                   'Panadura', 'Peliyagoda', 'Trincomalee', 'Wattala']\n",
        "\n",
        "label_encoder = preprocessing.LabelEncoder()\n",
        "\n",
        "label_encoder.fit(outlet_city_list)\n",
        "train['outlet_city_encoded'] = label_encoder.transform(train['outlet_city'])\n",
        "\n",
        "print(train.head())\n",
        "\n"
      ],
      "metadata": {
        "id": "LvyNNWvz6-ym",
        "colab": {
          "base_uri": "https://localhost:8080/"
        },
        "outputId": "f8e59293-2d2f-470c-edb7-a2673911c39f"
      },
      "execution_count": 32,
      "outputs": [
        {
          "output_type": "stream",
          "name": "stdout",
          "text": [
            "   Customer_ID outlet_city  luxury_sales  fresh_sales  dry_sales  \\\n",
            "0   10493832.0    Kelaniya       1209.60       756.00    5292.00   \n",
            "1   10178643.0    Moratuwa       1590.12      1060.08    6007.12   \n",
            "2   10513916.0     Wattala       2288.88      1481.04    9155.52   \n",
            "3   10334589.0     Wattala       2274.94      1739.66    9099.76   \n",
            "4   10458365.0    Kelaniya       2345.49      2069.55    9243.99   \n",
            "\n",
            "  cluster_category  outliers_luxury  outliers_fresh  outliers_dry  \\\n",
            "0                4                0               0             0   \n",
            "1                1                0               0             0   \n",
            "2                4                0               0             0   \n",
            "3                4                0               0             0   \n",
            "4                4                0               0             0   \n",
            "\n",
            "   outlet_city_encoded  \n",
            "0                   12  \n",
            "1                   15  \n",
            "2                   21  \n",
            "3                   21  \n",
            "4                   12  \n"
          ]
        }
      ]
    },
    {
      "cell_type": "code",
      "source": [
        "train.info()"
      ],
      "metadata": {
        "id": "-Ng8CXXZ9vkZ",
        "colab": {
          "base_uri": "https://localhost:8080/"
        },
        "outputId": "45842516-996f-475f-d507-839bb8cd61ec"
      },
      "execution_count": 33,
      "outputs": [
        {
          "output_type": "stream",
          "name": "stdout",
          "text": [
            "<class 'pandas.core.frame.DataFrame'>\n",
            "Index: 774149 entries, 0 to 774154\n",
            "Data columns (total 10 columns):\n",
            " #   Column               Non-Null Count   Dtype  \n",
            "---  ------               --------------   -----  \n",
            " 0   Customer_ID          774147 non-null  float64\n",
            " 1   outlet_city          774149 non-null  object \n",
            " 2   luxury_sales         774149 non-null  float64\n",
            " 3   fresh_sales          774149 non-null  float64\n",
            " 4   dry_sales            774149 non-null  float64\n",
            " 5   cluster_category     774149 non-null  object \n",
            " 6   outliers_luxury      774149 non-null  int64  \n",
            " 7   outliers_fresh       774149 non-null  int64  \n",
            " 8   outliers_dry         774149 non-null  int64  \n",
            " 9   outlet_city_encoded  774149 non-null  int64  \n",
            "dtypes: float64(4), int64(4), object(2)\n",
            "memory usage: 65.0+ MB\n"
          ]
        }
      ]
    },
    {
      "cell_type": "code",
      "source": [
        "train.isnull().sum()"
      ],
      "metadata": {
        "id": "mGhXsJht-7U_",
        "colab": {
          "base_uri": "https://localhost:8080/",
          "height": 398
        },
        "outputId": "f858b985-be98-4d24-bdb7-8f9d4a0bc913"
      },
      "execution_count": 34,
      "outputs": [
        {
          "output_type": "execute_result",
          "data": {
            "text/plain": [
              "Customer_ID            2\n",
              "outlet_city            0\n",
              "luxury_sales           0\n",
              "fresh_sales            0\n",
              "dry_sales              0\n",
              "cluster_category       0\n",
              "outliers_luxury        0\n",
              "outliers_fresh         0\n",
              "outliers_dry           0\n",
              "outlet_city_encoded    0\n",
              "dtype: int64"
            ],
            "text/html": [
              "<div>\n",
              "<style scoped>\n",
              "    .dataframe tbody tr th:only-of-type {\n",
              "        vertical-align: middle;\n",
              "    }\n",
              "\n",
              "    .dataframe tbody tr th {\n",
              "        vertical-align: top;\n",
              "    }\n",
              "\n",
              "    .dataframe thead th {\n",
              "        text-align: right;\n",
              "    }\n",
              "</style>\n",
              "<table border=\"1\" class=\"dataframe\">\n",
              "  <thead>\n",
              "    <tr style=\"text-align: right;\">\n",
              "      <th></th>\n",
              "      <th>0</th>\n",
              "    </tr>\n",
              "  </thead>\n",
              "  <tbody>\n",
              "    <tr>\n",
              "      <th>Customer_ID</th>\n",
              "      <td>2</td>\n",
              "    </tr>\n",
              "    <tr>\n",
              "      <th>outlet_city</th>\n",
              "      <td>0</td>\n",
              "    </tr>\n",
              "    <tr>\n",
              "      <th>luxury_sales</th>\n",
              "      <td>0</td>\n",
              "    </tr>\n",
              "    <tr>\n",
              "      <th>fresh_sales</th>\n",
              "      <td>0</td>\n",
              "    </tr>\n",
              "    <tr>\n",
              "      <th>dry_sales</th>\n",
              "      <td>0</td>\n",
              "    </tr>\n",
              "    <tr>\n",
              "      <th>cluster_category</th>\n",
              "      <td>0</td>\n",
              "    </tr>\n",
              "    <tr>\n",
              "      <th>outliers_luxury</th>\n",
              "      <td>0</td>\n",
              "    </tr>\n",
              "    <tr>\n",
              "      <th>outliers_fresh</th>\n",
              "      <td>0</td>\n",
              "    </tr>\n",
              "    <tr>\n",
              "      <th>outliers_dry</th>\n",
              "      <td>0</td>\n",
              "    </tr>\n",
              "    <tr>\n",
              "      <th>outlet_city_encoded</th>\n",
              "      <td>0</td>\n",
              "    </tr>\n",
              "  </tbody>\n",
              "</table>\n",
              "</div><br><label><b>dtype:</b> int64</label>"
            ]
          },
          "metadata": {},
          "execution_count": 34
        }
      ]
    },
    {
      "cell_type": "code",
      "source": [
        "train.describe()"
      ],
      "metadata": {
        "id": "BAAY-1oVFBH4",
        "colab": {
          "base_uri": "https://localhost:8080/",
          "height": 320
        },
        "outputId": "f877685e-edd4-424b-8fe6-e5cb06dc1ac6"
      },
      "execution_count": 35,
      "outputs": [
        {
          "output_type": "execute_result",
          "data": {
            "text/plain": [
              "        Customer_ID   luxury_sales    fresh_sales      dry_sales  \\\n",
              "count  7.741470e+05  774149.000000  774149.000000  774149.000000   \n",
              "mean   1.038708e+07    1921.991930    4428.673308    4676.302562   \n",
              "std    2.234797e+05    1004.103989    3334.635179    3409.412526   \n",
              "min    1.000000e+07     500.000000     500.000000     500.000000   \n",
              "25%    1.019354e+07    1213.530000    1620.190000    1787.940000   \n",
              "50%    1.038708e+07    1715.300000    3356.540000    3727.760000   \n",
              "75%    1.058062e+07    2338.700000    6671.600000    7162.200000   \n",
              "max    1.077415e+07    6999.650000   13997.900000   13999.300000   \n",
              "\n",
              "       outliers_luxury  outliers_fresh  outliers_dry  outlet_city_encoded  \n",
              "count    774149.000000        774149.0      774149.0        774149.000000  \n",
              "mean          0.045291             0.0           0.0            10.724813  \n",
              "std           0.207942             0.0           0.0             6.176585  \n",
              "min           0.000000             0.0           0.0             1.000000  \n",
              "25%           0.000000             0.0           0.0             5.000000  \n",
              "50%           0.000000             0.0           0.0            10.000000  \n",
              "75%           0.000000             0.0           0.0            16.000000  \n",
              "max           1.000000             0.0           0.0            21.000000  "
            ],
            "text/html": [
              "\n",
              "  <div id=\"df-e57fa376-e7fa-4638-83df-414f064d0a73\" class=\"colab-df-container\">\n",
              "    <div>\n",
              "<style scoped>\n",
              "    .dataframe tbody tr th:only-of-type {\n",
              "        vertical-align: middle;\n",
              "    }\n",
              "\n",
              "    .dataframe tbody tr th {\n",
              "        vertical-align: top;\n",
              "    }\n",
              "\n",
              "    .dataframe thead th {\n",
              "        text-align: right;\n",
              "    }\n",
              "</style>\n",
              "<table border=\"1\" class=\"dataframe\">\n",
              "  <thead>\n",
              "    <tr style=\"text-align: right;\">\n",
              "      <th></th>\n",
              "      <th>Customer_ID</th>\n",
              "      <th>luxury_sales</th>\n",
              "      <th>fresh_sales</th>\n",
              "      <th>dry_sales</th>\n",
              "      <th>outliers_luxury</th>\n",
              "      <th>outliers_fresh</th>\n",
              "      <th>outliers_dry</th>\n",
              "      <th>outlet_city_encoded</th>\n",
              "    </tr>\n",
              "  </thead>\n",
              "  <tbody>\n",
              "    <tr>\n",
              "      <th>count</th>\n",
              "      <td>7.741470e+05</td>\n",
              "      <td>774149.000000</td>\n",
              "      <td>774149.000000</td>\n",
              "      <td>774149.000000</td>\n",
              "      <td>774149.000000</td>\n",
              "      <td>774149.0</td>\n",
              "      <td>774149.0</td>\n",
              "      <td>774149.000000</td>\n",
              "    </tr>\n",
              "    <tr>\n",
              "      <th>mean</th>\n",
              "      <td>1.038708e+07</td>\n",
              "      <td>1921.991930</td>\n",
              "      <td>4428.673308</td>\n",
              "      <td>4676.302562</td>\n",
              "      <td>0.045291</td>\n",
              "      <td>0.0</td>\n",
              "      <td>0.0</td>\n",
              "      <td>10.724813</td>\n",
              "    </tr>\n",
              "    <tr>\n",
              "      <th>std</th>\n",
              "      <td>2.234797e+05</td>\n",
              "      <td>1004.103989</td>\n",
              "      <td>3334.635179</td>\n",
              "      <td>3409.412526</td>\n",
              "      <td>0.207942</td>\n",
              "      <td>0.0</td>\n",
              "      <td>0.0</td>\n",
              "      <td>6.176585</td>\n",
              "    </tr>\n",
              "    <tr>\n",
              "      <th>min</th>\n",
              "      <td>1.000000e+07</td>\n",
              "      <td>500.000000</td>\n",
              "      <td>500.000000</td>\n",
              "      <td>500.000000</td>\n",
              "      <td>0.000000</td>\n",
              "      <td>0.0</td>\n",
              "      <td>0.0</td>\n",
              "      <td>1.000000</td>\n",
              "    </tr>\n",
              "    <tr>\n",
              "      <th>25%</th>\n",
              "      <td>1.019354e+07</td>\n",
              "      <td>1213.530000</td>\n",
              "      <td>1620.190000</td>\n",
              "      <td>1787.940000</td>\n",
              "      <td>0.000000</td>\n",
              "      <td>0.0</td>\n",
              "      <td>0.0</td>\n",
              "      <td>5.000000</td>\n",
              "    </tr>\n",
              "    <tr>\n",
              "      <th>50%</th>\n",
              "      <td>1.038708e+07</td>\n",
              "      <td>1715.300000</td>\n",
              "      <td>3356.540000</td>\n",
              "      <td>3727.760000</td>\n",
              "      <td>0.000000</td>\n",
              "      <td>0.0</td>\n",
              "      <td>0.0</td>\n",
              "      <td>10.000000</td>\n",
              "    </tr>\n",
              "    <tr>\n",
              "      <th>75%</th>\n",
              "      <td>1.058062e+07</td>\n",
              "      <td>2338.700000</td>\n",
              "      <td>6671.600000</td>\n",
              "      <td>7162.200000</td>\n",
              "      <td>0.000000</td>\n",
              "      <td>0.0</td>\n",
              "      <td>0.0</td>\n",
              "      <td>16.000000</td>\n",
              "    </tr>\n",
              "    <tr>\n",
              "      <th>max</th>\n",
              "      <td>1.077415e+07</td>\n",
              "      <td>6999.650000</td>\n",
              "      <td>13997.900000</td>\n",
              "      <td>13999.300000</td>\n",
              "      <td>1.000000</td>\n",
              "      <td>0.0</td>\n",
              "      <td>0.0</td>\n",
              "      <td>21.000000</td>\n",
              "    </tr>\n",
              "  </tbody>\n",
              "</table>\n",
              "</div>\n",
              "    <div class=\"colab-df-buttons\">\n",
              "\n",
              "  <div class=\"colab-df-container\">\n",
              "    <button class=\"colab-df-convert\" onclick=\"convertToInteractive('df-e57fa376-e7fa-4638-83df-414f064d0a73')\"\n",
              "            title=\"Convert this dataframe to an interactive table.\"\n",
              "            style=\"display:none;\">\n",
              "\n",
              "  <svg xmlns=\"http://www.w3.org/2000/svg\" height=\"24px\" viewBox=\"0 -960 960 960\">\n",
              "    <path d=\"M120-120v-720h720v720H120Zm60-500h600v-160H180v160Zm220 220h160v-160H400v160Zm0 220h160v-160H400v160ZM180-400h160v-160H180v160Zm440 0h160v-160H620v160ZM180-180h160v-160H180v160Zm440 0h160v-160H620v160Z\"/>\n",
              "  </svg>\n",
              "    </button>\n",
              "\n",
              "  <style>\n",
              "    .colab-df-container {\n",
              "      display:flex;\n",
              "      gap: 12px;\n",
              "    }\n",
              "\n",
              "    .colab-df-convert {\n",
              "      background-color: #E8F0FE;\n",
              "      border: none;\n",
              "      border-radius: 50%;\n",
              "      cursor: pointer;\n",
              "      display: none;\n",
              "      fill: #1967D2;\n",
              "      height: 32px;\n",
              "      padding: 0 0 0 0;\n",
              "      width: 32px;\n",
              "    }\n",
              "\n",
              "    .colab-df-convert:hover {\n",
              "      background-color: #E2EBFA;\n",
              "      box-shadow: 0px 1px 2px rgba(60, 64, 67, 0.3), 0px 1px 3px 1px rgba(60, 64, 67, 0.15);\n",
              "      fill: #174EA6;\n",
              "    }\n",
              "\n",
              "    .colab-df-buttons div {\n",
              "      margin-bottom: 4px;\n",
              "    }\n",
              "\n",
              "    [theme=dark] .colab-df-convert {\n",
              "      background-color: #3B4455;\n",
              "      fill: #D2E3FC;\n",
              "    }\n",
              "\n",
              "    [theme=dark] .colab-df-convert:hover {\n",
              "      background-color: #434B5C;\n",
              "      box-shadow: 0px 1px 3px 1px rgba(0, 0, 0, 0.15);\n",
              "      filter: drop-shadow(0px 1px 2px rgba(0, 0, 0, 0.3));\n",
              "      fill: #FFFFFF;\n",
              "    }\n",
              "  </style>\n",
              "\n",
              "    <script>\n",
              "      const buttonEl =\n",
              "        document.querySelector('#df-e57fa376-e7fa-4638-83df-414f064d0a73 button.colab-df-convert');\n",
              "      buttonEl.style.display =\n",
              "        google.colab.kernel.accessAllowed ? 'block' : 'none';\n",
              "\n",
              "      async function convertToInteractive(key) {\n",
              "        const element = document.querySelector('#df-e57fa376-e7fa-4638-83df-414f064d0a73');\n",
              "        const dataTable =\n",
              "          await google.colab.kernel.invokeFunction('convertToInteractive',\n",
              "                                                    [key], {});\n",
              "        if (!dataTable) return;\n",
              "\n",
              "        const docLinkHtml = 'Like what you see? Visit the ' +\n",
              "          '<a target=\"_blank\" href=https://colab.research.google.com/notebooks/data_table.ipynb>data table notebook</a>'\n",
              "          + ' to learn more about interactive tables.';\n",
              "        element.innerHTML = '';\n",
              "        dataTable['output_type'] = 'display_data';\n",
              "        await google.colab.output.renderOutput(dataTable, element);\n",
              "        const docLink = document.createElement('div');\n",
              "        docLink.innerHTML = docLinkHtml;\n",
              "        element.appendChild(docLink);\n",
              "      }\n",
              "    </script>\n",
              "  </div>\n",
              "\n",
              "\n",
              "<div id=\"df-645c85c8-348f-4b2e-ac10-bc318ad44a8b\">\n",
              "  <button class=\"colab-df-quickchart\" onclick=\"quickchart('df-645c85c8-348f-4b2e-ac10-bc318ad44a8b')\"\n",
              "            title=\"Suggest charts\"\n",
              "            style=\"display:none;\">\n",
              "\n",
              "<svg xmlns=\"http://www.w3.org/2000/svg\" height=\"24px\"viewBox=\"0 0 24 24\"\n",
              "     width=\"24px\">\n",
              "    <g>\n",
              "        <path d=\"M19 3H5c-1.1 0-2 .9-2 2v14c0 1.1.9 2 2 2h14c1.1 0 2-.9 2-2V5c0-1.1-.9-2-2-2zM9 17H7v-7h2v7zm4 0h-2V7h2v10zm4 0h-2v-4h2v4z\"/>\n",
              "    </g>\n",
              "</svg>\n",
              "  </button>\n",
              "\n",
              "<style>\n",
              "  .colab-df-quickchart {\n",
              "      --bg-color: #E8F0FE;\n",
              "      --fill-color: #1967D2;\n",
              "      --hover-bg-color: #E2EBFA;\n",
              "      --hover-fill-color: #174EA6;\n",
              "      --disabled-fill-color: #AAA;\n",
              "      --disabled-bg-color: #DDD;\n",
              "  }\n",
              "\n",
              "  [theme=dark] .colab-df-quickchart {\n",
              "      --bg-color: #3B4455;\n",
              "      --fill-color: #D2E3FC;\n",
              "      --hover-bg-color: #434B5C;\n",
              "      --hover-fill-color: #FFFFFF;\n",
              "      --disabled-bg-color: #3B4455;\n",
              "      --disabled-fill-color: #666;\n",
              "  }\n",
              "\n",
              "  .colab-df-quickchart {\n",
              "    background-color: var(--bg-color);\n",
              "    border: none;\n",
              "    border-radius: 50%;\n",
              "    cursor: pointer;\n",
              "    display: none;\n",
              "    fill: var(--fill-color);\n",
              "    height: 32px;\n",
              "    padding: 0;\n",
              "    width: 32px;\n",
              "  }\n",
              "\n",
              "  .colab-df-quickchart:hover {\n",
              "    background-color: var(--hover-bg-color);\n",
              "    box-shadow: 0 1px 2px rgba(60, 64, 67, 0.3), 0 1px 3px 1px rgba(60, 64, 67, 0.15);\n",
              "    fill: var(--button-hover-fill-color);\n",
              "  }\n",
              "\n",
              "  .colab-df-quickchart-complete:disabled,\n",
              "  .colab-df-quickchart-complete:disabled:hover {\n",
              "    background-color: var(--disabled-bg-color);\n",
              "    fill: var(--disabled-fill-color);\n",
              "    box-shadow: none;\n",
              "  }\n",
              "\n",
              "  .colab-df-spinner {\n",
              "    border: 2px solid var(--fill-color);\n",
              "    border-color: transparent;\n",
              "    border-bottom-color: var(--fill-color);\n",
              "    animation:\n",
              "      spin 1s steps(1) infinite;\n",
              "  }\n",
              "\n",
              "  @keyframes spin {\n",
              "    0% {\n",
              "      border-color: transparent;\n",
              "      border-bottom-color: var(--fill-color);\n",
              "      border-left-color: var(--fill-color);\n",
              "    }\n",
              "    20% {\n",
              "      border-color: transparent;\n",
              "      border-left-color: var(--fill-color);\n",
              "      border-top-color: var(--fill-color);\n",
              "    }\n",
              "    30% {\n",
              "      border-color: transparent;\n",
              "      border-left-color: var(--fill-color);\n",
              "      border-top-color: var(--fill-color);\n",
              "      border-right-color: var(--fill-color);\n",
              "    }\n",
              "    40% {\n",
              "      border-color: transparent;\n",
              "      border-right-color: var(--fill-color);\n",
              "      border-top-color: var(--fill-color);\n",
              "    }\n",
              "    60% {\n",
              "      border-color: transparent;\n",
              "      border-right-color: var(--fill-color);\n",
              "    }\n",
              "    80% {\n",
              "      border-color: transparent;\n",
              "      border-right-color: var(--fill-color);\n",
              "      border-bottom-color: var(--fill-color);\n",
              "    }\n",
              "    90% {\n",
              "      border-color: transparent;\n",
              "      border-bottom-color: var(--fill-color);\n",
              "    }\n",
              "  }\n",
              "</style>\n",
              "\n",
              "  <script>\n",
              "    async function quickchart(key) {\n",
              "      const quickchartButtonEl =\n",
              "        document.querySelector('#' + key + ' button');\n",
              "      quickchartButtonEl.disabled = true;  // To prevent multiple clicks.\n",
              "      quickchartButtonEl.classList.add('colab-df-spinner');\n",
              "      try {\n",
              "        const charts = await google.colab.kernel.invokeFunction(\n",
              "            'suggestCharts', [key], {});\n",
              "      } catch (error) {\n",
              "        console.error('Error during call to suggestCharts:', error);\n",
              "      }\n",
              "      quickchartButtonEl.classList.remove('colab-df-spinner');\n",
              "      quickchartButtonEl.classList.add('colab-df-quickchart-complete');\n",
              "    }\n",
              "    (() => {\n",
              "      let quickchartButtonEl =\n",
              "        document.querySelector('#df-645c85c8-348f-4b2e-ac10-bc318ad44a8b button');\n",
              "      quickchartButtonEl.style.display =\n",
              "        google.colab.kernel.accessAllowed ? 'block' : 'none';\n",
              "    })();\n",
              "  </script>\n",
              "</div>\n",
              "\n",
              "    </div>\n",
              "  </div>\n"
            ],
            "application/vnd.google.colaboratory.intrinsic+json": {
              "type": "dataframe",
              "summary": "{\n  \"name\": \"train\",\n  \"rows\": 8,\n  \"fields\": [\n    {\n      \"column\": \"Customer_ID\",\n      \"properties\": {\n        \"dtype\": \"number\",\n        \"std\": 4585580.2576372735,\n        \"min\": 223479.7023015673,\n        \"max\": 10774154.0,\n        \"num_unique_values\": 8,\n        \"samples\": [\n          10387076.590953656,\n          10387078.0,\n          774147.0\n        ],\n        \"semantic_type\": \"\",\n        \"description\": \"\"\n      }\n    },\n    {\n      \"column\": \"luxury_sales\",\n      \"properties\": {\n        \"dtype\": \"number\",\n        \"std\": 272917.8718437993,\n        \"min\": 500.0,\n        \"max\": 774149.0,\n        \"num_unique_values\": 8,\n        \"samples\": [\n          1921.991929532945,\n          1715.3,\n          774149.0\n        ],\n        \"semantic_type\": \"\",\n        \"description\": \"\"\n      }\n    },\n    {\n      \"column\": \"fresh_sales\",\n      \"properties\": {\n        \"dtype\": \"number\",\n        \"std\": 272022.10381949955,\n        \"min\": 500.0,\n        \"max\": 774149.0,\n        \"num_unique_values\": 8,\n        \"samples\": [\n          4428.673308479374,\n          3356.54,\n          774149.0\n        ],\n        \"semantic_type\": \"\",\n        \"description\": \"\"\n      }\n    },\n    {\n      \"column\": \"dry_sales\",\n      \"properties\": {\n        \"dtype\": \"number\",\n        \"std\": 271953.60174063366,\n        \"min\": 500.0,\n        \"max\": 774149.0,\n        \"num_unique_values\": 8,\n        \"samples\": [\n          4676.302562013258,\n          3727.76,\n          774149.0\n        ],\n        \"semantic_type\": \"\",\n        \"description\": \"\"\n      }\n    },\n    {\n      \"column\": \"outliers_luxury\",\n      \"properties\": {\n        \"dtype\": \"number\",\n        \"std\": 273702.94047678914,\n        \"min\": 0.0,\n        \"max\": 774149.0,\n        \"num_unique_values\": 5,\n        \"samples\": [\n          0.04529102278760291,\n          1.0,\n          0.2079418233484452\n        ],\n        \"semantic_type\": \"\",\n        \"description\": \"\"\n      }\n    },\n    {\n      \"column\": \"outliers_fresh\",\n      \"properties\": {\n        \"dtype\": \"number\",\n        \"std\": 273703.0037743923,\n        \"min\": 0.0,\n        \"max\": 774149.0,\n        \"num_unique_values\": 2,\n        \"samples\": [\n          0.0,\n          774149.0\n        ],\n        \"semantic_type\": \"\",\n        \"description\": \"\"\n      }\n    },\n    {\n      \"column\": \"outliers_dry\",\n      \"properties\": {\n        \"dtype\": \"number\",\n        \"std\": 273703.0037743923,\n        \"min\": 0.0,\n        \"max\": 774149.0,\n        \"num_unique_values\": 2,\n        \"samples\": [\n          0.0,\n          774149.0\n        ],\n        \"semantic_type\": \"\",\n        \"description\": \"\"\n      }\n    },\n    {\n      \"column\": \"outlet_city_encoded\",\n      \"properties\": {\n        \"dtype\": \"number\",\n        \"std\": 273699.4732932423,\n        \"min\": 1.0,\n        \"max\": 774149.0,\n        \"num_unique_values\": 8,\n        \"samples\": [\n          10.724812665262114,\n          10.0\n        ],\n        \"semantic_type\": \"\",\n        \"description\": \"\"\n      }\n    }\n  ]\n}"
            }
          },
          "metadata": {},
          "execution_count": 35
        }
      ]
    },
    {
      "cell_type": "code",
      "source": [
        "train.to_csv('preprocessed_train_dataset.csv', index= False)"
      ],
      "metadata": {
        "id": "R4Dh-8FI1E6a"
      },
      "execution_count": 36,
      "outputs": []
    }
  ]
}